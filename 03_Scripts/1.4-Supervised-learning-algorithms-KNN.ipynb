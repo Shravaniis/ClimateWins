{
 "cells": [
  {
   "cell_type": "markdown",
   "id": "b18d2e27-7402-41a6-a0fa-97501e210d88",
   "metadata": {},
   "source": [
    "# 1.4-Supervised Learning Algorithms Part 1"
   ]
  },
  {
   "cell_type": "markdown",
   "id": "1be0d9b9-5a35-4367-9abc-de04cc39619f",
   "metadata": {},
   "source": [
    "## 01.Import Libraries"
   ]
  },
  {
   "cell_type": "code",
   "execution_count": null,
   "id": "a6d74e54-6665-45b7-92d1-e63f1329dd8e",
   "metadata": {},
   "outputs": [],
   "source": [
    "# Import Libraries\n",
    "import pandas as pd\n",
    "import numpy as np\n",
    "import seaborn as sns\n",
    "import os\n",
    "import operator\n",
    "import matplotlib.pyplot as plt\n",
    "from sklearn import datasets\n",
    "from sklearn import metrics\n",
    "from sklearn.model_selection import train_test_split\n",
    "from sklearn.metrics import multilabel_confusion_matrix, accuracy_score, confusion_matrix, ConfusionMatrixDisplay\n",
    "from sklearn.neighbors import KNeighborsClassifier\n",
    "from sklearn.multioutput import MultiOutputClassifier"
   ]
  },
  {
   "cell_type": "markdown",
   "id": "159fb635-efcd-46ad-95f2-66c6e24d031a",
   "metadata": {},
   "source": [
    "## 02.Import Data"
   ]
  },
  {
   "cell_type": "code",
   "execution_count": null,
   "id": "936a5c8f-e2fc-4a49-9740-5ba7c5436b69",
   "metadata": {},
   "outputs": [],
   "source": [
    "# Create a path for importing\n",
    "path = r'C:\\Users\\shrav\\_Data_Analysis_CF\\ML_ClimateWins_Project'"
   ]
  },
  {
   "cell_type": "code",
   "execution_count": null,
   "id": "f12ec4d9-9a1b-47b1-8910-9201cd4e9eeb",
   "metadata": {},
   "outputs": [],
   "source": [
    "#Read in the European weather data.\n",
    "climate = pd.read_csv(os.path.join(path,'02 Data', 'Original_Data', 'Dataset-weather-prediction-dataset-processed.csv'))\n",
    "climate"
   ]
  },
  {
   "cell_type": "code",
   "execution_count": null,
   "id": "8adeadd8-d5b2-4b23-9e77-0f07dc13d00a",
   "metadata": {},
   "outputs": [],
   "source": [
    "### Import the pleasant weather data\n",
    "pleasantweather = pd.read_csv(os.path.join(path, '02 Data', 'Original_Data','Dataset-Answers-Weather_Prediction_Pleasant_Weather.csv'))"
   ]
  },
  {
   "cell_type": "code",
   "execution_count": null,
   "id": "3fd4b655-1274-4e2e-a12d-d40665a05b03",
   "metadata": {},
   "outputs": [],
   "source": [
    "pleasantweather.head()"
   ]
  },
  {
   "cell_type": "code",
   "execution_count": null,
   "id": "3d08cda9-4208-4a5d-9f1e-26e0215f5f65",
   "metadata": {},
   "outputs": [],
   "source": [
    "climate.columns"
   ]
  },
  {
   "cell_type": "code",
   "execution_count": null,
   "id": "c8d0cad6-2d9d-4f08-ae88-2c0642abde0f",
   "metadata": {},
   "outputs": [],
   "source": [
    "#Reduce to just the temperature variables (excluding Gdansk, Roma,Tours)\n",
    "df = climate[['DATE', 'MONTH','BASEL_temp_mean','BASEL_temp_min','BASEL_temp_max',        \n",
    " 'BELGRADE_temp_mean','BELGRADE_temp_min','BELGRADE_temp_max',\n",
    " 'BUDAPEST_temp_mean', 'BUDAPEST_temp_min', 'BUDAPEST_temp_max',\n",
    " 'DEBILT_temp_mean','DEBILT_temp_min','DEBILT_temp_max',\n",
    " 'DUSSELDORF_temp_mean','DUSSELDORF_temp_min','DUSSELDORF_temp_max',\n",
    " 'HEATHROW_temp_mean','HEATHROW_temp_min','HEATHROW_temp_max',\n",
    " 'KASSEL_temp_mean','KASSEL_temp_min','KASSEL_temp_max',\n",
    " 'LJUBLJANA_temp_mean','LJUBLJANA_temp_min','LJUBLJANA_temp_max',\n",
    " 'MAASTRICHT_temp_mean','MAASTRICHT_temp_min','MAASTRICHT_temp_max',\n",
    " 'MADRID_temp_mean','MADRID_temp_min','MADRID_temp_max',\n",
    " 'MUNCHENB_temp_mean','MUNCHENB_temp_min','MUNCHENB_temp_max',\n",
    " 'OSLO_temp_mean','OSLO_temp_min','OSLO_temp_max',\n",
    " 'SONNBLICK_temp_mean','SONNBLICK_temp_min','SONNBLICK_temp_max',   \n",
    " 'STOCKHOLM_temp_mean','STOCKHOLM_temp_min','STOCKHOLM_temp_max',\n",
    " 'VALENTIA_temp_mean','VALENTIA_temp_min','VALENTIA_temp_max']].copy()"
   ]
  },
  {
   "cell_type": "code",
   "execution_count": null,
   "id": "00775bc0-c2c1-4838-8159-8ca648ba51e9",
   "metadata": {},
   "outputs": [],
   "source": [
    "#Create an 'X' matrix by dropping the unneeded columns.\n",
    "X = df.drop(['DATE', 'MONTH'], axis=1)\n",
    "y = pleasantweather.drop(['DATE'], axis=1)"
   ]
  },
  {
   "cell_type": "code",
   "execution_count": null,
   "id": "78b6cf68-b7b0-470e-8fff-daba87fd0a8c",
   "metadata": {},
   "outputs": [],
   "source": [
    "print(X.shape)\n",
    "print(y.shape)"
   ]
  },
  {
   "cell_type": "code",
   "execution_count": null,
   "id": "6c2e2a05-616c-4236-a617-5ce32878a321",
   "metadata": {},
   "outputs": [],
   "source": [
    "#Split data into training and testing sets.\n",
    "X_train, X_test, y_train, y_test = train_test_split(X, y, random_state=42)"
   ]
  },
  {
   "cell_type": "code",
   "execution_count": null,
   "id": "288d9f44-0315-47be-aa74-be58cacf9751",
   "metadata": {},
   "outputs": [],
   "source": [
    "print(X_train.shape)\n",
    "print(X_test.shape)\n",
    "print(y_train.shape)\n",
    "print(y_test.shape)"
   ]
  },
  {
   "cell_type": "code",
   "execution_count": null,
   "id": "1631a9f0-d7af-408f-b0e0-29ce3dbe2b2d",
   "metadata": {},
   "outputs": [],
   "source": [
    "X_train = X_train.to_numpy()\n",
    "X_test = X_test.to_numpy()\n",
    "y_train = y_train.to_numpy()\n",
    "y_test = y_test.to_numpy()"
   ]
  },
  {
   "cell_type": "code",
   "execution_count": null,
   "id": "f9408f3c-0617-4a52-a429-69e2098dede1",
   "metadata": {},
   "outputs": [],
   "source": [
    "#Run the model with neighbors equal to 1 to 4, test the accuracy\n",
    "k_range = np.arange(1,4)\n",
    "train_acc = np.empty(len(k_range))\n",
    "test_acc = np.empty(len(k_range))\n",
    "scores = {}\n",
    "scores_list = []\n",
    "for i, k in enumerate(k_range):\n",
    "    print(\"i -\", i)\n",
    "    print(\"k -\", k_range)\n",
    "    knn = KNeighborsClassifier(n_neighbors=k)\n",
    "    classifier = MultiOutputClassifier(knn, n_jobs=-1) #ADD THIS LINE\n",
    "    ## Fit the model on the training data.\n",
    "    knn.fit(X_train, y_train)\n",
    "    y_pred = knn.predict(X_test)\n",
    "    train_acc[i] = knn.score(X_train, np.array(y_train)) #CHANGE THIS LINE\n",
    "    test_acc[i] = knn.score(X_test, np.array(y_test)) #CHANGE THIS LINE"
   ]
  },
  {
   "cell_type": "code",
   "execution_count": null,
   "id": "08fcf40e-51fe-47c2-8a5a-5165a6b16c28",
   "metadata": {},
   "outputs": [],
   "source": [
    "#plot the relationship between number of neighbors and accuracy\n",
    "plt.plot(k_range, test_acc, label = 'Test accuracy')\n",
    "plt.plot(k_range, train_acc, label = 'Train accuracy')\n",
    "plt.legend()\n",
    "plt.xlabel('Number of Neighbors')\n",
    "plt.ylabel('Accuracy')\n",
    "plt.show"
   ]
  },
  {
   "cell_type": "code",
   "execution_count": null,
   "id": "eca147d8-88e1-44f4-a65e-ad9642462202",
   "metadata": {},
   "outputs": [],
   "source": [
    "locations = list({x.split(\"_\")[0] for x in df.columns if x not in [\"MONTH\", \"DATE\"]})\n",
    "locations.sort()\n",
    "locations"
   ]
  },
  {
   "cell_type": "code",
   "execution_count": null,
   "id": "025f3fcb-0af6-4917-a78e-aa4e5abdefc0",
   "metadata": {},
   "outputs": [],
   "source": [
    "# Confusion matrix based on the last \"k\" in the sequence (Test data)\n",
    "# Assuming y_test is a numpy array, we replace .loc with standard indexing\n",
    "from sklearn.metrics import confusion_matrix, ConfusionMatrixDisplay\n",
    "\n",
    "# Assuming labels 'pleasant' and 'unpleasant' are coded as 0 and 1\n",
    "import pandas as pd\n",
    "\n",
    "# Assuming locations is already defined\n",
    "key = \"_pleasant_weather\"\n",
    "y_test = pd.DataFrame(y_test, columns=[loc + key for loc in locations])\n",
    "y_pred = pd.DataFrame(y_pred, columns=locations)\n",
    "\n",
    "# Updated loop\n",
    "figure, ax = plt.subplots(3, 5, figsize=(25, 15))\n",
    "labels = ['pleasant', 'unpleasant']\n",
    "count = 0\n",
    "\n",
    "for i in range(3):\n",
    "    for j in range(5):\n",
    "        name = locations[count]\n",
    "        cm = confusion_matrix(y_test[name + key], y_pred[name])\n",
    "        sns.heatmap(cm, annot=True, fmt='g', ax=ax[i, j])\n",
    "        \n",
    "        ax[i, j].set_xlabel('Predicted labels')\n",
    "        ax[i, j].set_ylabel('True labels')\n",
    "        ax[i, j].set_title(f\"{name} Matrix\")\n",
    "        \n",
    "        count += 1\n",
    "\n",
    "plt.tight_layout()\n",
    "plt.show()\n",
    "\n",
    "# Specify the path and file name\n",
    "output_file = r\"C:\\Users\\shrav\\_Data_Analysis_CF\\ML_ClimateWins_Project\\04 Analysis\\Visualizations\\KNN_model_training_matrix.png\"\n",
    "\n",
    "# Save the figure\n",
    "figure.savefig(output_file, dpi=300, bbox_inches='tight')\n",
    "\n",
    "print(f\"Figure saved successfully at: {output_file}\")\n"
   ]
  },
  {
   "cell_type": "code",
   "execution_count": null,
   "id": "e53973fd-216f-4d2b-811a-cbdec52f2c2c",
   "metadata": {},
   "outputs": [],
   "source": [
    "pleasantweather['SONNBLICK_pleasant_weather'].value_counts(dropna=False)"
   ]
  },
  {
   "cell_type": "code",
   "execution_count": null,
   "id": "d289f9a9-c659-4cac-928e-b430a5a61cf4",
   "metadata": {},
   "outputs": [],
   "source": [
    "pleasantweather['VALENTIA_pleasant_weather'].value_counts(dropna=False)"
   ]
  },
  {
   "cell_type": "markdown",
   "id": "09016798-9b51-47b3-b306-5f84d66e0548",
   "metadata": {},
   "source": [
    "### note: Error occuring with SONNBLICK_pleasant_weather_answer due to having no ('pleasant weather attributes' = 1)"
   ]
  }
 ],
 "metadata": {
  "kernelspec": {
   "display_name": "Python 3 (ipykernel)",
   "language": "python",
   "name": "python3"
  },
  "language_info": {
   "codemirror_mode": {
    "name": "ipython",
    "version": 3
   },
   "file_extension": ".py",
   "mimetype": "text/x-python",
   "name": "python",
   "nbconvert_exporter": "python",
   "pygments_lexer": "ipython3",
   "version": "3.11.7"
  }
 },
 "nbformat": 4,
 "nbformat_minor": 5
}
